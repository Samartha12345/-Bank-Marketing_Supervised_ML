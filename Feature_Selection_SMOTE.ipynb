{
 "cells": [
  {
   "cell_type": "code",
   "execution_count": 1,
   "id": "b0bb97b5",
   "metadata": {},
   "outputs": [
    {
     "name": "stderr",
     "output_type": "stream",
     "text": [
      "C:\\Users\\Dell\\AppData\\Roaming\\Python\\Python311\\site-packages\\pandas\\core\\arrays\\masked.py:60: UserWarning: Pandas requires version '1.3.6' or newer of 'bottleneck' (version '1.3.5' currently installed).\n",
      "  from pandas.core import (\n"
     ]
    }
   ],
   "source": [
    "import pandas as pd\n",
    "df = pd.read_csv(r\"C:\\Users\\Dell\\Desktop\\bank.csv\",sep=\";\")"
   ]
  },
  {
   "cell_type": "code",
   "execution_count": 2,
   "id": "975661c4",
   "metadata": {},
   "outputs": [
    {
     "data": {
      "text/plain": [
       "Series([], dtype: int64)"
      ]
     },
     "execution_count": 2,
     "metadata": {},
     "output_type": "execute_result"
    }
   ],
   "source": [
    "df.isnull().sum()[df.isnull().sum()>0]"
   ]
  },
  {
   "cell_type": "code",
   "execution_count": 3,
   "id": "15c0386f",
   "metadata": {},
   "outputs": [],
   "source": [
    "import numpy as np\n",
    "df.replace({'unknown':np.nan},inplace=True)"
   ]
  },
  {
   "cell_type": "code",
   "execution_count": 4,
   "id": "0fd2c160",
   "metadata": {},
   "outputs": [
    {
     "data": {
      "text/plain": [
       "job           330\n",
       "marital        80\n",
       "education    1731\n",
       "default      8597\n",
       "housing       990\n",
       "loan          990\n",
       "dtype: int64"
      ]
     },
     "execution_count": 4,
     "metadata": {},
     "output_type": "execute_result"
    }
   ],
   "source": [
    "df.isnull().sum()[df.isnull().sum()>0]"
   ]
  },
  {
   "cell_type": "code",
   "execution_count": 5,
   "id": "941de798",
   "metadata": {},
   "outputs": [
    {
     "name": "stderr",
     "output_type": "stream",
     "text": [
      "C:\\Users\\Dell\\AppData\\Local\\Temp\\ipykernel_56696\\1207208009.py:1: FutureWarning: A value is trying to be set on a copy of a DataFrame or Series through chained assignment using an inplace method.\n",
      "The behavior will change in pandas 3.0. This inplace method will never work because the intermediate object on which we are setting values always behaves as a copy.\n",
      "\n",
      "For example, when doing 'df[col].method(value, inplace=True)', try using 'df.method({col: value}, inplace=True)' or df[col] = df[col].method(value) instead, to perform the operation inplace on the original object.\n",
      "\n",
      "\n",
      "  df.job.fillna('admin',inplace=True)\n",
      "C:\\Users\\Dell\\AppData\\Local\\Temp\\ipykernel_56696\\1207208009.py:2: FutureWarning: A value is trying to be set on a copy of a DataFrame or Series through chained assignment using an inplace method.\n",
      "The behavior will change in pandas 3.0. This inplace method will never work because the intermediate object on which we are setting values always behaves as a copy.\n",
      "\n",
      "For example, when doing 'df[col].method(value, inplace=True)', try using 'df.method({col: value}, inplace=True)' or df[col] = df[col].method(value) instead, to perform the operation inplace on the original object.\n",
      "\n",
      "\n",
      "  df.marital.fillna('married',inplace=True)\n",
      "C:\\Users\\Dell\\AppData\\Local\\Temp\\ipykernel_56696\\1207208009.py:3: FutureWarning: A value is trying to be set on a copy of a DataFrame or Series through chained assignment using an inplace method.\n",
      "The behavior will change in pandas 3.0. This inplace method will never work because the intermediate object on which we are setting values always behaves as a copy.\n",
      "\n",
      "For example, when doing 'df[col].method(value, inplace=True)', try using 'df.method({col: value}, inplace=True)' or df[col] = df[col].method(value) instead, to perform the operation inplace on the original object.\n",
      "\n",
      "\n",
      "  df.default.fillna('no',inplace=True)\n",
      "C:\\Users\\Dell\\AppData\\Local\\Temp\\ipykernel_56696\\1207208009.py:4: FutureWarning: A value is trying to be set on a copy of a DataFrame or Series through chained assignment using an inplace method.\n",
      "The behavior will change in pandas 3.0. This inplace method will never work because the intermediate object on which we are setting values always behaves as a copy.\n",
      "\n",
      "For example, when doing 'df[col].method(value, inplace=True)', try using 'df.method({col: value}, inplace=True)' or df[col] = df[col].method(value) instead, to perform the operation inplace on the original object.\n",
      "\n",
      "\n",
      "  df.housing.fillna('yes',inplace=True)\n",
      "C:\\Users\\Dell\\AppData\\Local\\Temp\\ipykernel_56696\\1207208009.py:5: FutureWarning: A value is trying to be set on a copy of a DataFrame or Series through chained assignment using an inplace method.\n",
      "The behavior will change in pandas 3.0. This inplace method will never work because the intermediate object on which we are setting values always behaves as a copy.\n",
      "\n",
      "For example, when doing 'df[col].method(value, inplace=True)', try using 'df.method({col: value}, inplace=True)' or df[col] = df[col].method(value) instead, to perform the operation inplace on the original object.\n",
      "\n",
      "\n",
      "  df.loan.fillna('no',inplace=True)\n",
      "C:\\Users\\Dell\\AppData\\Local\\Temp\\ipykernel_56696\\1207208009.py:6: FutureWarning: A value is trying to be set on a copy of a DataFrame or Series through chained assignment using an inplace method.\n",
      "The behavior will change in pandas 3.0. This inplace method will never work because the intermediate object on which we are setting values always behaves as a copy.\n",
      "\n",
      "For example, when doing 'df[col].method(value, inplace=True)', try using 'df.method({col: value}, inplace=True)' or df[col] = df[col].method(value) instead, to perform the operation inplace on the original object.\n",
      "\n",
      "\n",
      "  df.education.fillna('university.degree',inplace=True)\n"
     ]
    }
   ],
   "source": [
    "df.job.fillna('admin',inplace=True)\n",
    "df.marital.fillna('married',inplace=True)\n",
    "df.default.fillna('no',inplace=True)\n",
    "df.housing.fillna('yes',inplace=True)\n",
    "df.loan.fillna('no',inplace=True)\n",
    "df.education.fillna('university.degree',inplace=True)"
   ]
  },
  {
   "cell_type": "code",
   "execution_count": 6,
   "id": "e4f5eff3",
   "metadata": {},
   "outputs": [
    {
     "data": {
      "text/plain": [
       "Series([], dtype: int64)"
      ]
     },
     "execution_count": 6,
     "metadata": {},
     "output_type": "execute_result"
    }
   ],
   "source": [
    "df.isnull().sum()[df.isnull().sum()>0]"
   ]
  },
  {
   "cell_type": "markdown",
   "id": "6deaeddc",
   "metadata": {},
   "source": [
    "# Label Encoding wherever required"
   ]
  },
  {
   "cell_type": "code",
   "execution_count": 7,
   "id": "126e2b1d",
   "metadata": {},
   "outputs": [],
   "source": [
    "from sklearn.preprocessing import LabelEncoder\n",
    "le = LabelEncoder()\n",
    "df['job'] = le.fit_transform(df['job'])\n",
    "df['marital'] = le.fit_transform(df['marital'])\n",
    "df['education'] = le.fit_transform(df['education'])\n",
    "df['housing'] = le.fit_transform(df['housing'])\n",
    "df['loan'] = le.fit_transform(df['loan'])\n",
    "df['contact'] = le.fit_transform(df['contact'])\n",
    "df['month'] = le.fit_transform(df['month'])\n",
    "df['day_of_week'] = le.fit_transform(df['day_of_week'])\n",
    "df['poutcome'] = le.fit_transform(df['poutcome'])\n",
    "df['default'] = le.fit_transform(df['default'])\n",
    "df['y'] = le.fit_transform(df['y'])"
   ]
  },
  {
   "cell_type": "markdown",
   "id": "cd30e976",
   "metadata": {},
   "source": [
    "## Selecting important features based on Random Forest"
   ]
  },
  {
   "cell_type": "code",
   "execution_count": 8,
   "id": "d42c05a5",
   "metadata": {},
   "outputs": [],
   "source": [
    "from sklearn.model_selection import train_test_split\n",
    "df_train , df_test = train_test_split(df , test_size= .2)"
   ]
  },
  {
   "cell_type": "code",
   "execution_count": 9,
   "id": "5eba51ad",
   "metadata": {},
   "outputs": [
    {
     "name": "stdout",
     "output_type": "stream",
     "text": [
      "[[7050  251]\n",
      " [ 471  466]]\n",
      "              precision    recall  f1-score   support\n",
      "\n",
      "           0       0.94      0.97      0.95      7301\n",
      "           1       0.65      0.50      0.56       937\n",
      "\n",
      "    accuracy                           0.91      8238\n",
      "   macro avg       0.79      0.73      0.76      8238\n",
      "weighted avg       0.90      0.91      0.91      8238\n",
      "\n"
     ]
    }
   ],
   "source": [
    "df_train_x = df_train.iloc[ : , 0:-1] \n",
    "df_train_y = df_train.iloc[ : , -1]\n",
    "\n",
    "df_test_x = df_test.iloc[ : , 0:-1] \n",
    "df_test_y = df_test.iloc[: , -1]\n",
    "from sklearn.ensemble import RandomForestClassifier\n",
    "rf = RandomForestClassifier()\n",
    "from sklearn.ensemble import RandomForestClassifier\n",
    "rf  = RandomForestClassifier()\n",
    "rf.fit(df_train_x,df_train_y)\n",
    "pred_rf = rf.predict(df_test_x)\n",
    "from sklearn.metrics import confusion_matrix,classification_report\n",
    "tab_rf = confusion_matrix(df_test_y,pred_rf)\n",
    "print(tab_rf)\n",
    "print(classification_report(df_test_y,pred_rf))"
   ]
  },
  {
   "cell_type": "code",
   "execution_count": 10,
   "id": "5bb2a910",
   "metadata": {},
   "outputs": [
    {
     "name": "stdout",
     "output_type": "stream",
     "text": [
      "           Feature    Importance\n",
      "10        duration  3.221231e-01\n",
      "18       euribor3m  1.146762e-01\n",
      "0              age  9.499565e-02\n",
      "19     nr.employed  5.605452e-02\n",
      "1              job  5.033257e-02\n",
      "11        campaign  4.375966e-02\n",
      "9      day_of_week  4.166022e-02\n",
      "3        education  4.047238e-02\n",
      "12           pdays  3.509936e-02\n",
      "17   cons.conf.idx  2.723731e-02\n",
      "14        poutcome  2.645758e-02\n",
      "15    emp.var.rate  2.451683e-02\n",
      "2          marital  2.342017e-02\n",
      "16  cons.price.idx  2.341997e-02\n",
      "8            month  2.055428e-02\n",
      "5          housing  1.884382e-02\n",
      "13        previous  1.401784e-02\n",
      "6             loan  1.276592e-02\n",
      "7          contact  9.592592e-03\n",
      "4          default  1.342110e-08\n"
     ]
    }
   ],
   "source": [
    "importances = rf.feature_importances_\n",
    "feature_names = df_train_x.columns\n",
    "feature_importance_df = pd.DataFrame({'Feature': feature_names, 'Importance': importances})\n",
    "feature_importance_df\n",
    "feature_importance_df = feature_importance_df.sort_values(by='Importance', ascending=False)\n",
    "print(feature_importance_df)"
   ]
  },
  {
   "cell_type": "code",
   "execution_count": 11,
   "id": "17e0e6b6",
   "metadata": {},
   "outputs": [],
   "source": [
    "top_features = feature_importance_df['Feature'][:10].values\n",
    "selected_features = ['duration', 'euribor3m', 'age', 'nr.employed', \n",
    "                     'job', 'education', 'campaign', 'day_of_week', \n",
    "                     'pdays', 'cons.conf.idx']\n",
    "\n",
    "\n",
    "train_df_x_selected = df_train[selected_features]  \n",
    "test_df_x_selected = df_test[selected_features]\n",
    "\n",
    "\n",
    "train_df_y = df_train.iloc[:, -1]  # Last column is the target\n",
    "test_df_y = df_test.iloc[:, -1]"
   ]
  },
  {
   "cell_type": "code",
   "execution_count": 12,
   "id": "9be84d14",
   "metadata": {},
   "outputs": [],
   "source": [
    "test_df_y = df_test.iloc[:, -1]"
   ]
  },
  {
   "cell_type": "code",
   "execution_count": 13,
   "id": "c06c1a69",
   "metadata": {},
   "outputs": [
    {
     "name": "stdout",
     "output_type": "stream",
     "text": [
      "Before Using SMOTE, counts of label '1': 3703\n",
      "Before Using SMOTE, counts of label '0': 29247 \n",
      "\n",
      "After Using SMOTE, counts of label '1': 29247\n",
      "After Using SMOTE, counts of label '0': 29247 \n",
      "\n"
     ]
    }
   ],
   "source": [
    "from imblearn.over_sampling import SMOTE\n",
    "\n",
    "train_df_x_selected = df_train[selected_features]  \n",
    "train_df_y = df_train.iloc[:, -1]  \n",
    "\n",
    "sm = SMOTE()\n",
    "\n",
    "\n",
    "x_train_resampled, y_train_resampled = sm.fit_resample(train_df_x_selected, train_df_y)\n",
    "\n",
    "\n",
    "print(\"Before Using SMOTE, counts of label '1': {}\".format(sum(train_df_y == 1)))\n",
    "print(\"Before Using SMOTE, counts of label '0': {} \\n\".format(sum(train_df_y == 0)))\n",
    "print(\"After Using SMOTE, counts of label '1': {}\".format(sum(y_train_resampled == 1)))\n",
    "print(\"After Using SMOTE, counts of label '0': {} \\n\".format(sum(y_train_resampled == 0)))\n"
   ]
  },
  {
   "cell_type": "markdown",
   "id": "67e3310e",
   "metadata": {},
   "source": [
    "## Standardize the data using any one of the scalers provided by sklearn"
   ]
  },
  {
   "cell_type": "code",
   "execution_count": 14,
   "id": "b3e4635c",
   "metadata": {},
   "outputs": [],
   "source": [
    "from sklearn.preprocessing import StandardScaler\n",
    "scaler = StandardScaler()\n",
    "x_train_resampled = scaler.fit_transform(x_train_resampled)\n",
    "x_test_standardized = scaler.transform(test_df_x_selected)"
   ]
  },
  {
   "cell_type": "code",
   "execution_count": null,
   "id": "0f3a496f",
   "metadata": {},
   "outputs": [],
   "source": []
  }
 ],
 "metadata": {
  "kernelspec": {
   "display_name": "Python 3 (ipykernel)",
   "language": "python",
   "name": "python3"
  },
  "language_info": {
   "codemirror_mode": {
    "name": "ipython",
    "version": 3
   },
   "file_extension": ".py",
   "mimetype": "text/x-python",
   "name": "python",
   "nbconvert_exporter": "python",
   "pygments_lexer": "ipython3",
   "version": "3.11.5"
  }
 },
 "nbformat": 4,
 "nbformat_minor": 5
}
